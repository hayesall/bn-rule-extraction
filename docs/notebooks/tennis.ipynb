{
 "cells": [
  {
   "cell_type": "markdown",
   "id": "6f547311",
   "metadata": {},
   "source": [
    "# Bayesian Rules for Deciding when to Play Tennis\n",
    "\n",
    "This uses a \"*Toy Decision*\" dataset based on the example from Tom Mitchell's Machine Learning book, see section 3.4.2 (page 59 in Alexander's edition).\n",
    "\n",
    "Since this dataset is extremely simple, we'll use this to explore how different structures might influence the rules produced by the Gopalakrishnan algorithm."
   ]
  },
  {
   "cell_type": "code",
   "execution_count": null,
   "id": "b92d2c0a",
   "metadata": {},
   "outputs": [],
   "source": [
    "# If you're running in colab, run this cell for setup.\n",
    "! apt install libgraphviz-dev\n",
    "! pip install pomegranate numpy pandas matplotlib pygraphviz\n",
    "! pip install git+https://github.com/hayesall/bn-rule-extraction.git"
   ]
  },
  {
   "cell_type": "code",
   "execution_count": 1,
   "id": "e3340f3e",
   "metadata": {},
   "outputs": [
    {
     "data": {
      "text/html": [
       "<div>\n",
       "<style scoped>\n",
       "    .dataframe tbody tr th:only-of-type {\n",
       "        vertical-align: middle;\n",
       "    }\n",
       "\n",
       "    .dataframe tbody tr th {\n",
       "        vertical-align: top;\n",
       "    }\n",
       "\n",
       "    .dataframe thead th {\n",
       "        text-align: right;\n",
       "    }\n",
       "</style>\n",
       "<table border=\"1\" class=\"dataframe\">\n",
       "  <thead>\n",
       "    <tr style=\"text-align: right;\">\n",
       "      <th></th>\n",
       "      <th>PlayTennis</th>\n",
       "      <th>Outlook</th>\n",
       "      <th>Temperature</th>\n",
       "      <th>Humidity</th>\n",
       "      <th>Wind</th>\n",
       "    </tr>\n",
       "  </thead>\n",
       "  <tbody>\n",
       "    <tr>\n",
       "      <th>0</th>\n",
       "      <td>no</td>\n",
       "      <td>sunny</td>\n",
       "      <td>hot</td>\n",
       "      <td>high</td>\n",
       "      <td>weak</td>\n",
       "    </tr>\n",
       "    <tr>\n",
       "      <th>1</th>\n",
       "      <td>no</td>\n",
       "      <td>sunny</td>\n",
       "      <td>hot</td>\n",
       "      <td>high</td>\n",
       "      <td>strong</td>\n",
       "    </tr>\n",
       "    <tr>\n",
       "      <th>2</th>\n",
       "      <td>yes</td>\n",
       "      <td>overcast</td>\n",
       "      <td>hot</td>\n",
       "      <td>high</td>\n",
       "      <td>weak</td>\n",
       "    </tr>\n",
       "    <tr>\n",
       "      <th>3</th>\n",
       "      <td>yes</td>\n",
       "      <td>rain</td>\n",
       "      <td>mild</td>\n",
       "      <td>high</td>\n",
       "      <td>weak</td>\n",
       "    </tr>\n",
       "    <tr>\n",
       "      <th>4</th>\n",
       "      <td>yes</td>\n",
       "      <td>rain</td>\n",
       "      <td>cool</td>\n",
       "      <td>normal</td>\n",
       "      <td>weak</td>\n",
       "    </tr>\n",
       "    <tr>\n",
       "      <th>5</th>\n",
       "      <td>no</td>\n",
       "      <td>rain</td>\n",
       "      <td>cool</td>\n",
       "      <td>normal</td>\n",
       "      <td>strong</td>\n",
       "    </tr>\n",
       "    <tr>\n",
       "      <th>6</th>\n",
       "      <td>yes</td>\n",
       "      <td>overcast</td>\n",
       "      <td>cool</td>\n",
       "      <td>normal</td>\n",
       "      <td>strong</td>\n",
       "    </tr>\n",
       "    <tr>\n",
       "      <th>7</th>\n",
       "      <td>no</td>\n",
       "      <td>sunny</td>\n",
       "      <td>mild</td>\n",
       "      <td>high</td>\n",
       "      <td>weak</td>\n",
       "    </tr>\n",
       "    <tr>\n",
       "      <th>8</th>\n",
       "      <td>yes</td>\n",
       "      <td>sunny</td>\n",
       "      <td>cool</td>\n",
       "      <td>normal</td>\n",
       "      <td>weak</td>\n",
       "    </tr>\n",
       "    <tr>\n",
       "      <th>9</th>\n",
       "      <td>yes</td>\n",
       "      <td>rain</td>\n",
       "      <td>mild</td>\n",
       "      <td>normal</td>\n",
       "      <td>weak</td>\n",
       "    </tr>\n",
       "    <tr>\n",
       "      <th>10</th>\n",
       "      <td>yes</td>\n",
       "      <td>sunny</td>\n",
       "      <td>mild</td>\n",
       "      <td>normal</td>\n",
       "      <td>strong</td>\n",
       "    </tr>\n",
       "    <tr>\n",
       "      <th>11</th>\n",
       "      <td>yes</td>\n",
       "      <td>overcast</td>\n",
       "      <td>mild</td>\n",
       "      <td>high</td>\n",
       "      <td>strong</td>\n",
       "    </tr>\n",
       "    <tr>\n",
       "      <th>12</th>\n",
       "      <td>yes</td>\n",
       "      <td>overcast</td>\n",
       "      <td>hot</td>\n",
       "      <td>normal</td>\n",
       "      <td>weak</td>\n",
       "    </tr>\n",
       "    <tr>\n",
       "      <th>13</th>\n",
       "      <td>no</td>\n",
       "      <td>rain</td>\n",
       "      <td>mild</td>\n",
       "      <td>high</td>\n",
       "      <td>strong</td>\n",
       "    </tr>\n",
       "  </tbody>\n",
       "</table>\n",
       "</div>"
      ],
      "text/plain": [
       "   PlayTennis   Outlook Temperature Humidity    Wind\n",
       "0          no     sunny         hot     high    weak\n",
       "1          no     sunny         hot     high  strong\n",
       "2         yes  overcast         hot     high    weak\n",
       "3         yes      rain        mild     high    weak\n",
       "4         yes      rain        cool   normal    weak\n",
       "5          no      rain        cool   normal  strong\n",
       "6         yes  overcast        cool   normal  strong\n",
       "7          no     sunny        mild     high    weak\n",
       "8         yes     sunny        cool   normal    weak\n",
       "9         yes      rain        mild   normal    weak\n",
       "10        yes     sunny        mild   normal  strong\n",
       "11        yes  overcast        mild     high  strong\n",
       "12        yes  overcast         hot   normal    weak\n",
       "13         no      rain        mild     high  strong"
      ]
     },
     "execution_count": 1,
     "metadata": {},
     "output_type": "execute_result"
    }
   ],
   "source": [
    "from bayes_rule_extraction import ordinal_encode, print_rules\n",
    "from pomegranate import BayesianNetwork\n",
    "import pandas as pd\n",
    "\n",
    "data = pd.read_csv(\"https://raw.githubusercontent.com/hayesall/bn-rule-extraction/main/toy_decision.csv\")\n",
    "data"
   ]
  },
  {
   "cell_type": "code",
   "execution_count": 2,
   "id": "00b6da8e",
   "metadata": {
    "scrolled": false
   },
   "outputs": [
    {
     "data": {
      "text/plain": [
       "array([[0., 2., 1., 0., 1.],\n",
       "       [0., 2., 1., 0., 0.],\n",
       "       [1., 0., 1., 0., 1.],\n",
       "       [1., 1., 2., 0., 1.],\n",
       "       [1., 1., 0., 1., 1.],\n",
       "       [0., 1., 0., 1., 0.],\n",
       "       [1., 0., 0., 1., 0.],\n",
       "       [0., 2., 2., 0., 1.],\n",
       "       [1., 2., 0., 1., 1.],\n",
       "       [1., 1., 2., 1., 1.],\n",
       "       [1., 2., 2., 1., 0.],\n",
       "       [1., 0., 2., 0., 0.],\n",
       "       [1., 0., 1., 1., 1.],\n",
       "       [0., 1., 2., 0., 0.]], dtype=float32)"
      ]
     },
     "execution_count": 2,
     "metadata": {},
     "output_type": "execute_result"
    }
   ],
   "source": [
    "encoded, mapping = ordinal_encode(data.columns, data)\n",
    "\n",
    "encoded"
   ]
  },
  {
   "cell_type": "markdown",
   "id": "ea52fa5c",
   "metadata": {},
   "source": [
    "## Extreme Case: Naive Bayes\n",
    "\n",
    "Naive Bayes assumes that the variables are conditionally independent given the label. We'll represent this by passing a fixed structure where all of the variables have `PlayTennis` (0) as a parent."
   ]
  },
  {
   "cell_type": "code",
   "execution_count": 3,
   "id": "d03fd978",
   "metadata": {
    "scrolled": true
   },
   "outputs": [
    {
     "data": {
      "image/png": "[encoded data removed]",
      "text/plain": [
       "<Figure size 432x288 with 1 Axes>"
      ]
     },
     "metadata": {
      "needs_background": "light"
     },
     "output_type": "display_data"
    }
   ],
   "source": [
    "naive_model = BayesianNetwork.from_structure(\n",
    "    encoded,\n",
    "    structure=((), (0,), (0,), (0,), (0,)),\n",
    "    state_names=data.columns,\n",
    ")\n",
    "\n",
    "naive_model.plot()"
   ]
  },
  {
   "cell_type": "markdown",
   "id": "4cee614b",
   "metadata": {},
   "source": [
    "The network seems backwards to a sensible causal story (*Not playing tennis causes high humidity*), but this looks reasonable for making some guesses like: \"*On days when tennis is played, the humidity is probably normal.*\""
   ]
  },
  {
   "cell_type": "code",
   "execution_count": 4,
   "id": "f5d9b8bc",
   "metadata": {
    "scrolled": false
   },
   "outputs": [
    {
     "name": "stdout",
     "output_type": "stream",
     "text": [
      "Probabilities:\n",
      "- PlayTennis\n",
      "  P( PlayTennis = no ) = 0.36\n",
      "  P( PlayTennis = yes ) = 0.64\n",
      "\n",
      "IF (PlayTennis = no) THEN (Outlook = sunny)\n",
      "\tCF = 1.50\n",
      "IF (PlayTennis = no) THEN (Humidity = high)\n",
      "\tCF = 4.00\n",
      "IF (PlayTennis = yes) THEN (Humidity = normal)\n",
      "\tCF = 2.00\n",
      "IF (PlayTennis = no) THEN (Wind = strong)\n",
      "\tCF = 1.50\n",
      "IF (PlayTennis = yes) THEN (Wind = weak)\n",
      "\tCF = 2.00\n"
     ]
    }
   ],
   "source": [
    "print_rules(naive_model, data.columns, mapping)"
   ]
  },
  {
   "cell_type": "markdown",
   "id": "9ce4f5c1",
   "metadata": {},
   "source": [
    "## Inverting the Naive Bayes Edges\n",
    "\n",
    "Since I suggested a causal interpretation of the edges, you might be curious what the rules look like if we flip the direction of all the arrows to say something like: *Playing tennis is caused by 4 independent variables.*"
   ]
  },
  {
   "cell_type": "code",
   "execution_count": 5,
   "id": "5e712fbf",
   "metadata": {},
   "outputs": [
    {
     "data": {
      "image/png": "[encoded data removed]",
      "text/plain": [
       "<Figure size 432x288 with 1 Axes>"
      ]
     },
     "metadata": {
      "needs_background": "light"
     },
     "output_type": "display_data"
    }
   ],
   "source": [
    "flipped_naive_bayes = BayesianNetwork.from_structure(\n",
    "    encoded,\n",
    "    structure=((1, 2, 3, 4), (), (), (), ()),\n",
    "    state_names=data.columns,\n",
    ")\n",
    "\n",
    "flipped_naive_bayes.plot()"
   ]
  },
  {
   "cell_type": "markdown",
   "id": "62334880",
   "metadata": {},
   "source": [
    "I'll include this as a warning for something that might *seem* like a good idea but isn't. Any extracted rule would have to be the conjunction over all variables, and there are an exponential number of those proportional to the number of values each variable can have (in this case, 58 rules had confidence $\\ge$ 1.0)."
   ]
  },
  {
   "cell_type": "code",
   "execution_count": 6,
   "id": "660ebd80",
   "metadata": {
    "scrolled": false
   },
   "outputs": [
    {
     "name": "stdout",
     "output_type": "stream",
     "text": [
      "Probabilities:\n",
      "- Outlook\n",
      "  P( Outlook = sunny ) = 0.36\n",
      "  P( Outlook = overcast ) = 0.29\n",
      "  P( Outlook = rain ) = 0.36\n",
      "- Temperature\n",
      "  P( Temperature = hot ) = 0.29\n",
      "  P( Temperature = mild ) = 0.43\n",
      "  P( Temperature = cool ) = 0.29\n",
      "- Humidity\n",
      "  P( Humidity = high ) = 0.50\n",
      "  P( Humidity = normal ) = 0.50\n",
      "- Wind\n",
      "  P( Wind = weak ) = 0.57\n",
      "  P( Wind = strong ) = 0.43\n",
      "\n",
      "IF (Outlook = overcast ^ Temperature = cool ^ Humidity = high ^ Wind = strong) THEN (PlayTennis = no)\n",
      "\tCF = 1.00\n",
      "IF (Outlook = overcast ^ Temperature = cool ^ Humidity = high ^ Wind = strong) THEN (PlayTennis = yes)\n",
      "\tCF = 1.00\n",
      "IF (Outlook = overcast ^ Temperature = cool ^ Humidity = high ^ Wind = weak) THEN (PlayTennis = no)\n",
      "\tCF = 1.00\n",
      "IF (Outlook = overcast ^ Temperature = cool ^ Humidity = high ^ Wind = weak) THEN (PlayTennis = yes)\n",
      "\tCF = 1.00\n",
      "IF (Outlook = overcast ^ Temperature = cool ^ Humidity = normal ^ Wind = strong) THEN (PlayTennis = yes)\n",
      "\tCF = inf\n",
      "IF (Outlook = overcast ^ Temperature = cool ^ Humidity = normal ^ Wind = weak) THEN (PlayTennis = no)\n",
      "\tCF = 1.00\n",
      "IF (Outlook = overcast ^ Temperature = cool ^ Humidity = normal ^ Wind = weak) THEN (PlayTennis = yes)\n",
      "\tCF = 1.00\n",
      "IF (Outlook = overcast ^ Temperature = hot ^ Humidity = high ^ Wind = strong) THEN (PlayTennis = no)\n",
      "\tCF = 1.00\n",
      "IF (Outlook = overcast ^ Temperature = hot ^ Humidity = high ^ Wind = strong) THEN (PlayTennis = yes)\n",
      "\tCF = 1.00\n",
      "IF (Outlook = overcast ^ Temperature = hot ^ Humidity = high ^ Wind = weak) THEN (PlayTennis = yes)\n",
      "\tCF = inf\n",
      "IF (Outlook = overcast ^ Temperature = hot ^ Humidity = normal ^ Wind = strong) THEN (PlayTennis = no)\n",
      "\tCF = 1.00\n",
      "IF (Outlook = overcast ^ Temperature = hot ^ Humidity = normal ^ Wind = strong) THEN (PlayTennis = yes)\n",
      "\tCF = 1.00\n",
      "IF (Outlook = overcast ^ Temperature = hot ^ Humidity = normal ^ Wind = weak) THEN (PlayTennis = yes)\n",
      "\tCF = inf\n",
      "IF (Outlook = overcast ^ Temperature = mild ^ Humidity = high ^ Wind = strong) THEN (PlayTennis = yes)\n",
      "\tCF = inf\n",
      "IF (Outlook = overcast ^ Temperature = mild ^ Humidity = high ^ Wind = weak) THEN (PlayTennis = no)\n",
      "\tCF = 1.00\n",
      "IF (Outlook = overcast ^ Temperature = mild ^ Humidity = high ^ Wind = weak) THEN (PlayTennis = yes)\n",
      "\tCF = 1.00\n",
      "IF (Outlook = overcast ^ Temperature = mild ^ Humidity = normal ^ Wind = strong) THEN (PlayTennis = no)\n",
      "\tCF = 1.00\n",
      "IF (Outlook = overcast ^ Temperature = mild ^ Humidity = normal ^ Wind = strong) THEN (PlayTennis = yes)\n",
      "\tCF = 1.00\n",
      "IF (Outlook = overcast ^ Temperature = mild ^ Humidity = normal ^ Wind = weak) THEN (PlayTennis = no)\n",
      "\tCF = 1.00\n",
      "IF (Outlook = overcast ^ Temperature = mild ^ Humidity = normal ^ Wind = weak) THEN (PlayTennis = yes)\n",
      "\tCF = 1.00\n",
      "IF (Outlook = rain ^ Temperature = cool ^ Humidity = high ^ Wind = strong) THEN (PlayTennis = no)\n",
      "\tCF = 1.00\n",
      "IF (Outlook = rain ^ Temperature = cool ^ Humidity = high ^ Wind = strong) THEN (PlayTennis = yes)\n",
      "\tCF = 1.00\n",
      "IF (Outlook = rain ^ Temperature = cool ^ Humidity = high ^ Wind = weak) THEN (PlayTennis = no)\n",
      "\tCF = 1.00\n",
      "IF (Outlook = rain ^ Temperature = cool ^ Humidity = high ^ Wind = weak) THEN (PlayTennis = yes)\n",
      "\tCF = 1.00\n",
      "IF (Outlook = rain ^ Temperature = cool ^ Humidity = normal ^ Wind = strong) THEN (PlayTennis = no)\n",
      "\tCF = inf\n",
      "IF (Outlook = rain ^ Temperature = cool ^ Humidity = normal ^ Wind = weak) THEN (PlayTennis = yes)\n",
      "\tCF = inf\n",
      "IF (Outlook = rain ^ Temperature = hot ^ Humidity = high ^ Wind = strong) THEN (PlayTennis = no)\n",
      "\tCF = 1.00\n",
      "IF (Outlook = rain ^ Temperature = hot ^ Humidity = high ^ Wind = strong) THEN (PlayTennis = yes)\n",
      "\tCF = 1.00\n",
      "IF (Outlook = rain ^ Temperature = hot ^ Humidity = high ^ Wind = weak) THEN (PlayTennis = no)\n",
      "\tCF = 1.00\n",
      "IF (Outlook = rain ^ Temperature = hot ^ Humidity = high ^ Wind = weak) THEN (PlayTennis = yes)\n",
      "\tCF = 1.00\n",
      "IF (Outlook = rain ^ Temperature = hot ^ Humidity = normal ^ Wind = strong) THEN (PlayTennis = no)\n",
      "\tCF = 1.00\n",
      "IF (Outlook = rain ^ Temperature = hot ^ Humidity = normal ^ Wind = strong) THEN (PlayTennis = yes)\n",
      "\tCF = 1.00\n",
      "IF (Outlook = rain ^ Temperature = hot ^ Humidity = normal ^ Wind = weak) THEN (PlayTennis = no)\n",
      "\tCF = 1.00\n",
      "IF (Outlook = rain ^ Temperature = hot ^ Humidity = normal ^ Wind = weak) THEN (PlayTennis = yes)\n",
      "\tCF = 1.00\n",
      "IF (Outlook = rain ^ Temperature = mild ^ Humidity = high ^ Wind = strong) THEN (PlayTennis = no)\n",
      "\tCF = inf\n",
      "IF (Outlook = rain ^ Temperature = mild ^ Humidity = high ^ Wind = weak) THEN (PlayTennis = yes)\n",
      "\tCF = inf\n",
      "IF (Outlook = rain ^ Temperature = mild ^ Humidity = normal ^ Wind = strong) THEN (PlayTennis = no)\n",
      "\tCF = 1.00\n",
      "IF (Outlook = rain ^ Temperature = mild ^ Humidity = normal ^ Wind = strong) THEN (PlayTennis = yes)\n",
      "\tCF = 1.00\n",
      "IF (Outlook = rain ^ Temperature = mild ^ Humidity = normal ^ Wind = weak) THEN (PlayTennis = yes)\n",
      "\tCF = inf\n",
      "IF (Outlook = sunny ^ Temperature = cool ^ Humidity = high ^ Wind = strong) THEN (PlayTennis = no)\n",
      "\tCF = 1.00\n",
      "IF (Outlook = sunny ^ Temperature = cool ^ Humidity = high ^ Wind = strong) THEN (PlayTennis = yes)\n",
      "\tCF = 1.00\n",
      "IF (Outlook = sunny ^ Temperature = cool ^ Humidity = high ^ Wind = weak) THEN (PlayTennis = no)\n",
      "\tCF = 1.00\n",
      "IF (Outlook = sunny ^ Temperature = cool ^ Humidity = high ^ Wind = weak) THEN (PlayTennis = yes)\n",
      "\tCF = 1.00\n",
      "IF (Outlook = sunny ^ Temperature = cool ^ Humidity = normal ^ Wind = strong) THEN (PlayTennis = no)\n",
      "\tCF = 1.00\n",
      "IF (Outlook = sunny ^ Temperature = cool ^ Humidity = normal ^ Wind = strong) THEN (PlayTennis = yes)\n",
      "\tCF = 1.00\n",
      "IF (Outlook = sunny ^ Temperature = cool ^ Humidity = normal ^ Wind = weak) THEN (PlayTennis = yes)\n",
      "\tCF = inf\n",
      "IF (Outlook = sunny ^ Temperature = hot ^ Humidity = high ^ Wind = strong) THEN (PlayTennis = no)\n",
      "\tCF = inf\n",
      "IF (Outlook = sunny ^ Temperature = hot ^ Humidity = high ^ Wind = weak) THEN (PlayTennis = no)\n",
      "\tCF = inf\n",
      "IF (Outlook = sunny ^ Temperature = hot ^ Humidity = normal ^ Wind = strong) THEN (PlayTennis = no)\n",
      "\tCF = 1.00\n",
      "IF (Outlook = sunny ^ Temperature = hot ^ Humidity = normal ^ Wind = strong) THEN (PlayTennis = yes)\n",
      "\tCF = 1.00\n",
      "IF (Outlook = sunny ^ Temperature = hot ^ Humidity = normal ^ Wind = weak) THEN (PlayTennis = no)\n",
      "\tCF = 1.00\n",
      "IF (Outlook = sunny ^ Temperature = hot ^ Humidity = normal ^ Wind = weak) THEN (PlayTennis = yes)\n",
      "\tCF = 1.00\n",
      "IF (Outlook = sunny ^ Temperature = mild ^ Humidity = high ^ Wind = strong) THEN (PlayTennis = no)\n",
      "\tCF = 1.00\n",
      "IF (Outlook = sunny ^ Temperature = mild ^ Humidity = high ^ Wind = strong) THEN (PlayTennis = yes)\n",
      "\tCF = 1.00\n",
      "IF (Outlook = sunny ^ Temperature = mild ^ Humidity = high ^ Wind = weak) THEN (PlayTennis = no)\n",
      "\tCF = inf\n",
      "IF (Outlook = sunny ^ Temperature = mild ^ Humidity = normal ^ Wind = strong) THEN (PlayTennis = yes)\n",
      "\tCF = inf\n",
      "IF (Outlook = sunny ^ Temperature = mild ^ Humidity = normal ^ Wind = weak) THEN (PlayTennis = no)\n",
      "\tCF = 1.00\n",
      "IF (Outlook = sunny ^ Temperature = mild ^ Humidity = normal ^ Wind = weak) THEN (PlayTennis = yes)\n",
      "\tCF = 1.00\n"
     ]
    },
    {
     "name": "stderr",
     "output_type": "stream",
     "text": [
      "/home/hayesall/Classes/bn-rule-extraction/bayes_rule_extraction/bayes_rule_extraction.py:88: RuntimeWarning: divide by zero encountered in double_scalars\n",
      "  _conf_factor = row[-1] / (1 - row[-1])\n"
     ]
    }
   ],
   "source": [
    "print_rules(flipped_naive_bayes, data.columns, mapping)"
   ]
  },
  {
   "cell_type": "markdown",
   "id": "9dd86bb3",
   "metadata": {},
   "source": [
    "## Structure Learning + Rule Extraction for the Binary Classification Case\n",
    "\n",
    "We can encode \"PlayTennis should not be the parent of any other node\" using the `exclude_edges` parameter with a list of tuples:"
   ]
  },
  {
   "cell_type": "code",
   "execution_count": 7,
   "id": "06019c1f",
   "metadata": {},
   "outputs": [
    {
     "data": {
      "image/png": "[encoded data removed]",
      "text/plain": [
       "<Figure size 432x288 with 1 Axes>"
      ]
     },
     "metadata": {
      "needs_background": "light"
     },
     "output_type": "display_data"
    }
   ],
   "source": [
    "excluded_edges = [tuple([0, i]) for i in range(1, len(data.columns))]\n",
    "\n",
    "binary_model = BayesianNetwork().from_samples(\n",
    "    encoded,\n",
    "    algorithm=\"exact\",\n",
    "    exclude_edges=excluded_edges,\n",
    "    state_names=data.columns,\n",
    "    max_parents=-1,\n",
    ")\n",
    "\n",
    "binary_model.plot()"
   ]
  },
  {
   "cell_type": "code",
   "execution_count": 8,
   "id": "73ac9d1e",
   "metadata": {
    "scrolled": false
   },
   "outputs": [
    {
     "name": "stdout",
     "output_type": "stream",
     "text": [
      "Probabilities:\n",
      "- Outlook\n",
      "  P( Outlook = overcast ) = 0.29\n",
      "  P( Outlook = rain ) = 0.36\n",
      "  P( Outlook = sunny ) = 0.36\n",
      "- Humidity\n",
      "  P( Humidity = high ) = 0.50\n",
      "  P( Humidity = normal ) = 0.50\n",
      "- Wind\n",
      "  P( Wind = strong ) = 0.43\n",
      "  P( Wind = weak ) = 0.57\n",
      "\n",
      "IF (Humidity = high) THEN (PlayTennis = no)\n",
      "\tCF = 1.33\n",
      "IF (Humidity = normal) THEN (PlayTennis = yes)\n",
      "\tCF = 6.00\n",
      "IF (Humidity = high) THEN (Temperature = mild)\n",
      "\tCF = 1.33\n",
      "IF (Humidity = normal) THEN (Temperature = cool)\n",
      "\tCF = 1.33\n"
     ]
    }
   ],
   "source": [
    "print_rules(binary_model, data.columns, mapping)"
   ]
  },
  {
   "cell_type": "markdown",
   "id": "f15a3dab",
   "metadata": {},
   "source": [
    "## Using a structure based on some prior knowledge\n",
    "\n",
    "I found this structure while searching for ones that produced the best leave-one-out-cross-validation accuracy. The causal interpretation seems tenuous&mdash;it seems like a sunny or overcast outlook should affect the temperature. But it also seems overly optimistic to expect causal explanations from the fictional world this data was drawn from."
   ]
  },
  {
   "cell_type": "code",
   "execution_count": 9,
   "id": "b56a69ac",
   "metadata": {},
   "outputs": [
    {
     "data": {
      "image/png": "[encoded data removed]",
      "text/plain": [
       "<Figure size 432x288 with 1 Axes>"
      ]
     },
     "metadata": {
      "needs_background": "light"
     },
     "output_type": "display_data"
    }
   ],
   "source": [
    "known_structure_model = BayesianNetwork.from_structure(\n",
    "    encoded,\n",
    "    structure=((1, 4), (), (), (2,), ()),\n",
    "    state_names=data.columns,\n",
    ")\n",
    "\n",
    "known_structure_model.plot()"
   ]
  },
  {
   "cell_type": "code",
   "execution_count": 23,
   "id": "86ec329a",
   "metadata": {},
   "outputs": [
    {
     "name": "stdout",
     "output_type": "stream",
     "text": [
      "Probabilities:\n",
      "- Outlook\n",
      "  P( Outlook = sunny ) = 0.36\n",
      "  P( Outlook = overcast ) = 0.29\n",
      "  P( Outlook = rain ) = 0.36\n",
      "- Temperature\n",
      "  P( Temperature = hot ) = 0.29\n",
      "  P( Temperature = mild ) = 0.43\n",
      "  P( Temperature = cool ) = 0.29\n",
      "- Wind\n",
      "  P( Wind = weak ) = 0.57\n",
      "  P( Wind = strong ) = 0.43\n",
      "\n",
      "IF (Outlook = overcast ^ Wind = strong) THEN (PlayTennis = yes)\n",
      "\tCF = inf\n",
      "IF (Outlook = overcast ^ Wind = weak) THEN (PlayTennis = yes)\n",
      "\tCF = inf\n",
      "IF (Outlook = rain ^ Wind = strong) THEN (PlayTennis = no)\n",
      "\tCF = inf\n",
      "IF (Outlook = rain ^ Wind = weak) THEN (PlayTennis = yes)\n",
      "\tCF = inf\n",
      "IF (Outlook = sunny ^ Wind = strong) THEN (PlayTennis = no)\n",
      "\tCF = 1.00\n",
      "IF (Outlook = sunny ^ Wind = strong) THEN (PlayTennis = yes)\n",
      "\tCF = 1.00\n",
      "IF (Outlook = sunny ^ Wind = weak) THEN (PlayTennis = no)\n",
      "\tCF = 2.00\n",
      "IF (Temperature = cool) THEN (Humidity = normal)\n",
      "\tCF = inf\n",
      "IF (Temperature = hot) THEN (Humidity = high)\n",
      "\tCF = 3.00\n",
      "IF (Temperature = mild) THEN (Humidity = high)\n",
      "\tCF = 2.00\n"
     ]
    },
    {
     "name": "stderr",
     "output_type": "stream",
     "text": [
      "/home/hayesall/Classes/bn-rule-extraction/bayes_rule_extraction/bayes_rule_extraction.py:66: RuntimeWarning: divide by zero encountered in double_scalars\n",
      "  for j, par in enumerate([variable_names[p] for p in pom_model.structure[i]]):\n"
     ]
    }
   ],
   "source": [
    "print_rules(known_structure_model, data.columns, mapping)"
   ]
  },
  {
   "cell_type": "markdown",
   "id": "ed4d4cf3",
   "metadata": {},
   "source": [
    "## Ideas and Further Thoughts\n",
    "\n",
    "### Rules with equally likely outcomes\n",
    "\n",
    "It's pretty common to find cases where we could refine the rules. Consider these two cases:\n",
    "\n",
    "```python\n",
    "if (Outlook == \"sunny\" and Wind == \"strong\"):\n",
    "    PlayTennis = (\"no\", 1.0)\n",
    "\n",
    "if (Outlook == \"sunny\" and Wind == \"strong\"):\n",
    "    PlayTennis = (\"yes\", 1.0)\n",
    "```\n",
    "\n",
    "(1) The conditions are the same, (2) the confidence factors for both outcomes are the same, but (3) the *outcomes are different*. This might be refined to say something like: \"*If the outlook is sunny and the wind is strong, it's equally likely that the person plays tennis.*\"\n",
    "\n",
    "---\n",
    "\n",
    "### Being Infinitely confident\n",
    "\n",
    "Now consider a case like this:\n",
    "\n",
    "```python\n",
    "if (Outlook == \"overcast\" and Wind == \"strong\"):\n",
    "    PlayTennis = (\"yes\", inf)\n",
    "```\n",
    "\n",
    "This occurs here because we have two examples where the outlook is overcast and the wind is strong; and our imaginary user played tennis on both days:\n",
    "\n",
    "```console\n",
    "   PlayTennis   Outlook    Wind\n",
    "-------------------------------\n",
    "6         yes  overcast  strong\n",
    "11        yes  overcast  strong\n",
    "?          no  overcast  strong    <-- never observed in the training data\n",
    "```\n",
    "\n",
    "There are two interpretations for \"infinite confidence\" here. Either (1) the relationship is determinitic and the user always plays tennis on overcast, windy days; or (2) we didn't didn't observe enough cases to adequately assess how confident we should be.\n",
    "\n",
    "Extracting rules from the Bayes net resulted in four of these:\n",
    "\n",
    "```python\n",
    "if (Outlook == \"overcast\" and Wind == \"strong\"):\n",
    "    PlayTennis = (\"yes\", inf)\n",
    "if (Outlook == \"overcast\" and Wind == \"weak\"):\n",
    "    PlayTennis = (\"yes\", inf)\n",
    "if (Outlook == \"rain\" and Wind == \"strong\"):\n",
    "    PlayTennis = (\"no\", inf)\n",
    "if (Outlook == \"rain\" and Wind == \"weak\"):\n",
    "    PlayTennis = (\"yes\", inf)\n",
    "```\n",
    "\n",
    "I suspect this could help reveal deterministic paths within uncertain models, shed light on cases where domain expertise or more data are required, or perhaps reveal \"bugs\" in the data where a variable that should be dependent on another was incorrectly recorded."
   ]
  }
 ],
 "metadata": {
  "kernelspec": {
   "display_name": "Python 3 (ipykernel)",
   "language": "python",
   "name": "python3"
  },
  "language_info": {
   "codemirror_mode": {
    "name": "ipython",
    "version": 3
   },
   "file_extension": ".py",
   "mimetype": "text/x-python",
   "name": "python",
   "nbconvert_exporter": "python",
   "pygments_lexer": "ipython3",
   "version": "3.9.7"
  }
 },
 "nbformat": 4,
 "nbformat_minor": 5
}
